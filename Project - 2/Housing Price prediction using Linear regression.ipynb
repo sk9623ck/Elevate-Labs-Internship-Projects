{
 "cells": [
  {
   "cell_type": "markdown",
   "id": "8bb97003-2a5c-4c34-90ab-e7304c13f9f2",
   "metadata": {},
   "source": [
    "## Housing Price Prediction using Linear regression"
   ]
  },
  {
   "cell_type": "markdown",
   "id": "c9488717-79c4-485c-9fb9-c027a9bf9615",
   "metadata": {},
   "source": [
    "## Task - 1"
   ]
  },
  {
   "cell_type": "markdown",
   "id": "6cca43ac-8f5b-4b9f-a61b-19361b1edd8b",
   "metadata": {},
   "source": [
    "## Importing the Libraries"
   ]
  },
  {
   "cell_type": "code",
   "execution_count": 2,
   "id": "0e7aa6a9-d0d9-4328-b04c-529bbc180609",
   "metadata": {},
   "outputs": [],
   "source": [
    "import pandas as pd\n",
    "import numpy as np\n",
    "import matplotlib.pyplot as plt\n",
    "import seaborn as sns\n",
    "from sklearn.model_selection import train_test_split\n",
    "from sklearn.linear_model import LinearRegression\n",
    "from sklearn.metrics import mean_absolute_error, mean_squared_error, r2_score\n",
    "from sklearn.preprocessing import LabelEncoder"
   ]
  },
  {
   "cell_type": "code",
   "execution_count": 4,
   "id": "cec48eda-8aa3-4db6-a8cf-5c00f63cc3aa",
   "metadata": {},
   "outputs": [
    {
     "name": "stdout",
     "output_type": "stream",
     "text": [
      "      price  area  bedrooms  bathrooms  stories mainroad guestroom basement  \\\n",
      "0  13300000  7420         4          2        3      yes        no       no   \n",
      "1  12250000  8960         4          4        4      yes        no       no   \n",
      "2  12250000  9960         3          2        2      yes        no      yes   \n",
      "3  12215000  7500         4          2        2      yes        no      yes   \n",
      "4  11410000  7420         4          1        2      yes       yes      yes   \n",
      "\n",
      "  hotwaterheating airconditioning  parking prefarea furnishingstatus  \n",
      "0              no             yes        2      yes        furnished  \n",
      "1              no             yes        3       no        furnished  \n",
      "2              no              no        2      yes   semi-furnished  \n",
      "3              no             yes        3      yes        furnished  \n",
      "4              no             yes        2       no        furnished  \n"
     ]
    }
   ],
   "source": [
    "# Load dataset\n",
    "df = pd.read_csv(\"C:/Users/Sunil Kannur/OneDrive/Desktop/-/Elevate Labs Internship/Project - 2/Housing.csv\")\n",
    "print(df.head())  # Check first 5 rows"
   ]
  },
  {
   "cell_type": "markdown",
   "id": "af852c32-8fc6-455f-b3dd-59f0bd4b89b8",
   "metadata": {},
   "source": [
    "### Preprocess categorical Variables"
   ]
  },
  {
   "cell_type": "code",
   "execution_count": 5,
   "id": "57595897-220e-4074-a950-4448ea7396fd",
   "metadata": {},
   "outputs": [],
   "source": [
    "# Convert 'yes/no' columns to binary (0/1)\n",
    "binary_cols = ['mainroad', 'guestroom', 'basement', 'hotwaterheating', 'airconditioning', 'prefarea']\n",
    "df[binary_cols] = df[binary_cols].apply(lambda x: x.map({'yes': 1, 'no': 0}))\n",
    "\n",
    "# One-hot encode 'furnishingstatus'\n",
    "df = pd.get_dummies(df, columns=['furnishingstatus'], drop_first=True)"
   ]
  },
  {
   "cell_type": "markdown",
   "id": "766c5d26-8460-4ccc-8c19-ef13ec32c59a",
   "metadata": {},
   "source": [
    "## Split Data into Train sets and Test sets"
   ]
  },
  {
   "cell_type": "code",
   "execution_count": 6,
   "id": "0cd42d36-d3a0-4dc1-a542-970ff1145064",
   "metadata": {},
   "outputs": [
    {
     "name": "stdout",
     "output_type": "stream",
     "text": [
      "Train size: (436, 13), Test size: (109, 13)\n"
     ]
    }
   ],
   "source": [
    "# Define features (X) and target (y)\n",
    "X = df.drop('price', axis=1)  # All columns except 'price'\n",
    "y = df['price']  # Target variable\n",
    "\n",
    "# Split into train (80%) and test (20%)\n",
    "X_train, X_test, y_train, y_test = train_test_split(X, y, test_size=0.2, random_state=42)\n",
    "print(f\"Train size: {X_train.shape}, Test size: {X_test.shape}\")"
   ]
  },
  {
   "cell_type": "markdown",
   "id": "55aff89c-547a-4d95-900f-809d43d9b6b9",
   "metadata": {},
   "source": [
    "## Fit a Linear Regression Model"
   ]
  },
  {
   "cell_type": "code",
   "execution_count": 7,
   "id": "1c75af67-185c-4993-8dac-edd7eb1d06c3",
   "metadata": {},
   "outputs": [],
   "source": [
    "# Initialize and train the model\n",
    "model = LinearRegression()\n",
    "model.fit(X_train, y_train)\n",
    "\n",
    "# Make predictions on test set\n",
    "y_pred = model.predict(X_test)"
   ]
  },
  {
   "cell_type": "markdown",
   "id": "991ee4ad-98b2-4eb6-b297-276bf0281a46",
   "metadata": {},
   "source": [
    "## Evaluate Model Performance"
   ]
  },
  {
   "cell_type": "code",
   "execution_count": 8,
   "id": "a9bb4ecf-f217-4e1e-b0c5-796a9028dab8",
   "metadata": {},
   "outputs": [
    {
     "name": "stdout",
     "output_type": "stream",
     "text": [
      "Mean Absolute Error (MAE): 970043.40\n",
      "Mean Squared Error (MSE): 1754318687330.66\n",
      "Root Mean Squared Error (RMSE): 1324506.96\n",
      "R-squared (R²): 0.65\n"
     ]
    }
   ],
   "source": [
    "# Calculate metrics\n",
    "mae = mean_absolute_error(y_test, y_pred)\n",
    "mse = mean_squared_error(y_test, y_pred)\n",
    "rmse = np.sqrt(mse)\n",
    "r2 = r2_score(y_test, y_pred)\n",
    "\n",
    "print(f\"Mean Absolute Error (MAE): {mae:.2f}\")\n",
    "print(f\"Mean Squared Error (MSE): {mse:.2f}\")\n",
    "print(f\"Root Mean Squared Error (RMSE): {rmse:.2f}\")\n",
    "print(f\"R-squared (R²): {r2:.2f}\")"
   ]
  },
  {
   "cell_type": "markdown",
   "id": "8a3cb255-93a2-4e92-b202-a059b1c8e72f",
   "metadata": {},
   "source": [
    "## Plot Regression Line & Interpret Coefficients"
   ]
  },
  {
   "cell_type": "markdown",
   "id": "f013b7ea-7bd2-4011-8d42-cc82c1cda3d9",
   "metadata": {},
   "source": [
    "### Simple Regression (Single Feature: 'area')"
   ]
  },
  {
   "cell_type": "code",
   "execution_count": 9,
   "id": "17b15d41-a60f-4785-a158-865d9a97e612",
   "metadata": {},
   "outputs": [
    {
     "data": {
      "image/png": "[encoded data removed]",
      "text/plain": [
       "<Figure size 1000x600 with 1 Axes>"
      ]
     },
     "metadata": {},
     "output_type": "display_data"
    },
    {
     "name": "stdout",
     "output_type": "stream",
     "text": [
      "Intercept (baseline price): 2512254.26\n",
      "Coefficient (price per sq ft): 425.73\n"
     ]
    }
   ],
   "source": [
    "# Fit model on 'area' only\n",
    "X_area = df[['area']]\n",
    "X_train_area, X_test_area, y_train_area, y_test_area = train_test_split(X_area, y, test_size=0.2, random_state=42)\n",
    "\n",
    "model_area = LinearRegression()\n",
    "model_area.fit(X_train_area, y_train_area)\n",
    "y_pred_area = model_area.predict(X_test_area)\n",
    "\n",
    "# Plot regression line\n",
    "plt.figure(figsize=(10, 6))\n",
    "plt.scatter(X_test_area, y_test_area, color='blue', label='Actual Price')\n",
    "plt.plot(X_test_area, y_pred_area, color='red', linewidth=2, label='Predicted Price')\n",
    "plt.title('Simple Linear Regression: Area vs Price')\n",
    "plt.xlabel('Area (sq ft)')\n",
    "plt.ylabel('Price')\n",
    "plt.legend()\n",
    "plt.show()\n",
    "\n",
    "# Coefficient interpretation\n",
    "print(f\"Intercept (baseline price): {model_area.intercept_:.2f}\")\n",
    "print(f\"Coefficient (price per sq ft): {model_area.coef_[0]:.2f}\")"
   ]
  },
  {
   "cell_type": "markdown",
   "id": "237a21d4-bb70-4a65-8ade-81d8f456d346",
   "metadata": {},
   "source": [
    "### Multiple Regression (All Features)"
   ]
  },
  {
   "cell_type": "code",
   "execution_count": 10,
   "id": "e0f28d51-f3cb-4ba7-9959-540390458a6d",
   "metadata": {},
   "outputs": [
    {
     "name": "stdout",
     "output_type": "stream",
     "text": [
      "\n",
      "Feature Impact on Price:\n",
      "                            Feature   Coefficient\n",
      "2                         bathrooms  1.094445e+06\n",
      "8                   airconditioning  7.914267e+05\n",
      "7                   hotwaterheating  6.846499e+05\n",
      "10                         prefarea  6.298906e+05\n",
      "3                           stories  4.074766e+05\n",
      "6                          basement  3.902512e+05\n",
      "4                          mainroad  3.679199e+05\n",
      "5                         guestroom  2.316100e+05\n",
      "9                           parking  2.248419e+05\n",
      "1                          bedrooms  7.677870e+04\n",
      "0                              area  2.359688e+02\n",
      "11  furnishingstatus_semi-furnished -1.268818e+05\n",
      "12     furnishingstatus_unfurnished -4.136451e+05\n"
     ]
    }
   ],
   "source": [
    "# Get feature coefficients\n",
    "coefficients = pd.DataFrame({\n",
    "    'Feature': X.columns,\n",
    "    'Coefficient': model.coef_\n",
    "}).sort_values(by='Coefficient', ascending=False)\n",
    "\n",
    "print(\"\\nFeature Impact on Price:\")\n",
    "print(coefficients)"
   ]
  },
  {
   "cell_type": "code",
   "execution_count": null,
   "id": "ede7bcaa-98da-430d-987d-570e7b632118",
   "metadata": {},
   "outputs": [],
   "source": []
  }
 ],
 "metadata": {
  "kernelspec": {
   "display_name": "Python 3 (ipykernel)",
   "language": "python",
   "name": "python3"
  },
  "language_info": {
   "codemirror_mode": {
    "name": "ipython",
    "version": 3
   },
   "file_extension": ".py",
   "mimetype": "text/x-python",
   "name": "python",
   "nbconvert_exporter": "python",
   "pygments_lexer": "ipython3",
   "version": "3.12.7"
  }
 },
 "nbformat": 4,
 "nbformat_minor": 5
}
